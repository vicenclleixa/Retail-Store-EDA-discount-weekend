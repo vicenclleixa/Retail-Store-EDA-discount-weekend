{
 "cells": [
  {
   "cell_type": "markdown",
   "id": "374686dd",
   "metadata": {},
   "source": [
    "# Kroger Super Saver Weekend sales EDA insights"
   ]
  },
  {
   "cell_type": "markdown",
   "id": "f3cad0f4",
   "metadata": {},
   "source": [
    "### Vicenç Lleixà (https://github.com/vicenclleixa)"
   ]
  },
  {
   "cell_type": "markdown",
   "id": "6666898e",
   "metadata": {},
   "source": [
    "![A Kroger worker](https://www.modernretail.co/wp-content/uploads/sites/5/2019/05/Kroger.jpg?w=1280&h=601&crop=1)"
   ]
  },
  {
   "cell_type": "markdown",
   "id": "3bfba989",
   "metadata": {},
   "source": [
    "##### Kroger is a major retail chain, often referred to as a supermarket or grocery store, offering a wide range of food and household products. It operates numerous stores across the United States.\n",
    "\n",
    "##### In this Exploratory Data Analysis, we break down nearly 10,000 sales transactions that occurred during Kroger's Super Saver Weekend."
   ]
  },
  {
   "cell_type": "markdown",
   "id": "6e56e4f2",
   "metadata": {},
   "source": [
    "## Data acquisition and formats"
   ]
  },
  {
   "cell_type": "markdown",
   "id": "2a51e12d",
   "metadata": {},
   "source": [
    "##### The data was obtained from Kaggle in .csv format and was later on imported as a DataFrame using Pandas library. Once imported, we have transaction data, where each row corresponds to a transaction and each column corresponds to a product. Cells contain the name of the product."
   ]
  },
  {
   "cell_type": "markdown",
   "id": "a5a7f2c8",
   "metadata": {},
   "source": [
    "##### First things first, we import NumPy, Pandas, Matplotlib.pyplot, and Seaborn libraries. \n",
    "##### After creating a copy to avoid any modifications in the raw data, we use methods like .info(), .mean(), .shape() and .columns(), .dtypes() to start analyzing. Owing to these methods we are able to observe that the DataFrame has 9835 rows (transactions) and 32 columns (maximum quantity of transactions, one column per product purchased). The .dtypes() method indicates string data in the Dataframe.\n",
    "\n",
    "##### We then manage the null values by applying a value to them of '0' so we can proceed with the analysis. Later on we melt the Dataframe, this way we have a product (variable) per column and each row is still a transaction (a tidier dataset)."
   ]
  },
  {
   "cell_type": "markdown",
   "id": "627f78b4",
   "metadata": {},
   "source": [
    "## Exploratory analysis: insights and conclusions"
   ]
  },
  {
   "cell_type": "markdown",
   "id": "3efac64e",
   "metadata": {},
   "source": [
    "##### During the \"Super Saving Weekend\" at Kroger, each customer bought an average of 4.40 products and range of 170 different products are sold."
   ]
  },
  {
   "cell_type": "markdown",
   "id": "6383f1c7",
   "metadata": {},
   "source": [
    "##### Through the utilization of a histogram, we are afforded the opportunity to meticulously examine the 50 most sold products during this weekend with special discounts. \n",
    "\n",
    "##### Whole milk stands out as the highest-selling product by a significant margin, followed by vegetables, rolls/buns, soda, and yogurt. Except shopping bags, the totality of the 50 most sold products are food items. This is understandable as Kroger mainly sells groceries, including fresh produce, meat, and dairy products.\n",
    "\n",
    "##### There is a presence of four high-sugar foods and one alcoholic beverage among the top 20 best-selling products: rolls/buns, soda, pastry, bottled beer, and whipped/sour cream. \n",
    "\n",
    "##### Let's take a look:\n",
    "![Image Title](https://raw.githubusercontent.com/vicenclleixa/Retail-Store-EDA-discount-weekend/main/images/Top%2050%20Most%20Sold%20Products.png)"
   ]
  },
  {
   "cell_type": "markdown",
   "id": "c99c137f",
   "metadata": {},
   "source": [
    "##### The least sold products are generally cleaning products, snacks, personal care items, and specialized frozen or fresh foods. The least sold product is baby food. Meanwhile, sound storage medium, preservation products, bags, kitchen utensils, and frozen chicken are among the least sold. \n",
    "\n",
    "##### Here we can see the histogram depicting the 50 least sold products during the Super Saver weekend:\n",
    "![Image Title](https://github.com/vicenclleixa/Retail-Store-EDA-discount-weekend/blob/main/images/Least%20sold%20products.png?raw=true)"
   ]
  },
  {
   "cell_type": "markdown",
   "id": "c0d16eb2",
   "metadata": {},
   "source": [
    "##### Which products have the highest probability of being purchased together? \n",
    "\n",
    "##### We calculate the correlation between the most bought products and this is result:\n",
    "![Image Title](https://github.com/vicenclleixa/Retail-Store-EDA-discount-weekend/blob/main/images/Correlation%20Heatmap.png?raw=true)"
   ]
  },
  {
   "cell_type": "markdown",
   "id": "b3eac83a",
   "metadata": {},
   "source": [
    "![Image Title](https://github.com/vicenclleixa/Retail-Store-EDA-discount-weekend/blob/main/images/Most%20commonly%20purchased%20products.png?raw=true)"
   ]
  },
  {
   "cell_type": "markdown",
   "id": "29592d63",
   "metadata": {},
   "source": [
    "## Most commonly bought pairs of products:\n",
    "##### 1-Root vegetables and other vegetables\n",
    "##### 2-Beef and root vegetables\n",
    "##### 3-Root vegetables and whole milk\n",
    "##### 4-Pip fruit and tropical fruit\n",
    "##### 5-Other vegetables and whole milk\n",
    "##### 6-Whipped/sour cream and other vegetables\n",
    "##### 7-Tropical fruit and yogurt\n",
    "##### 8-Yogurt and whole milk\n",
    "##### 9-Butter and whole milk\n",
    "##### 10-Citrus fruit and tropical fruit\n",
    "##### 11-Domestic eggs and whole milk\n",
    "##### 12-Tropical fruit and other vegetables\n",
    "##### 13-Curd and whole milk\n",
    "##### 14-Curd and yogurt\n",
    "##### 15-Whipped/sour cream and whole milk\n",
    "##### 16-Whipped/sour cream and yogurt\n",
    "##### 17-Yogurt and other vegetables\n",
    "##### 18-Citrus fruit and other vegetables\n",
    "##### 19-Sausage and rolls/buns\n",
    "##### 20-Tropical fruit and whole milk"
   ]
  },
  {
   "cell_type": "markdown",
   "id": "38a09b34",
   "metadata": {},
   "source": [
    "##### "
   ]
  }
 ],
 "metadata": {
  "kernelspec": {
   "display_name": "My New Kernel",
   "language": "python",
   "name": "my_new_kernel"
  },
  "language_info": {
   "codemirror_mode": {
    "name": "ipython",
    "version": 3
   },
   "file_extension": ".py",
   "mimetype": "text/x-python",
   "name": "python",
   "nbconvert_exporter": "python",
   "pygments_lexer": "ipython3",
   "version": "3.11.5"
  }
 },
 "nbformat": 4,
 "nbformat_minor": 5
}
